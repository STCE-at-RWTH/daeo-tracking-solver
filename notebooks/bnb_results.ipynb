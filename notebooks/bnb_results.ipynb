{
 "cells": [
  {
   "cell_type": "code",
   "execution_count": 10,
   "metadata": {},
   "outputs": [],
   "source": [
    "from ast import literal_eval\n",
    "import numpy as np\n",
    "import pandas as pd"
   ]
  },
  {
   "cell_type": "code",
   "execution_count": 11,
   "metadata": {},
   "outputs": [],
   "source": [
    "def parse_numpy_data(item):\n",
    "    item_eval = literal_eval(item)\n",
    "    if item_eval is None:\n",
    "        return np.array([])\n",
    "    return np.array(item_eval)\n",
    "\n",
    "column_parse_dict = {col:parse_numpy_data for col in [\"X\", \"H\", \"DHDX\", \"D2HDX2\", \"CONVERGENCE\"]}"
   ]
  },
  {
   "cell_type": "code",
   "execution_count": 12,
   "metadata": {},
   "outputs": [],
   "source": [
    "res_df = pd.read_csv(\"../data/out/bnb_log_thread_0.csv\", \n",
    "                     sep=\"\\t\", header=0, \n",
    "                     converters=column_parse_dict)"
   ]
  },
  {
   "cell_type": "code",
   "execution_count": 13,
   "metadata": {},
   "outputs": [
    {
     "data": {
      "text/html": [
       "<div>\n",
       "<style scoped>\n",
       "    .dataframe tbody tr th:only-of-type {\n",
       "        vertical-align: middle;\n",
       "    }\n",
       "\n",
       "    .dataframe tbody tr th {\n",
       "        vertical-align: top;\n",
       "    }\n",
       "\n",
       "    .dataframe thead th {\n",
       "        text-align: right;\n",
       "    }\n",
       "</style>\n",
       "<table border=\"1\" class=\"dataframe\">\n",
       "  <thead>\n",
       "    <tr style=\"text-align: right;\">\n",
       "      <th></th>\n",
       "      <th>TASKNUM</th>\n",
       "      <th>TSTAMP</th>\n",
       "      <th>EVENTID</th>\n",
       "      <th>EXTRACODE</th>\n",
       "      <th>X</th>\n",
       "      <th>H</th>\n",
       "      <th>DHDX</th>\n",
       "      <th>D2HDX2</th>\n",
       "      <th>CONVERGENCE</th>\n",
       "    </tr>\n",
       "  </thead>\n",
       "  <tbody>\n",
       "    <tr>\n",
       "      <th>0</th>\n",
       "      <td>0</td>\n",
       "      <td>0.000000</td>\n",
       "      <td>0</td>\n",
       "      <td>0</td>\n",
       "      <td>[[-8.0, 12.0]]</td>\n",
       "      <td>[]</td>\n",
       "      <td>[]</td>\n",
       "      <td>[]</td>\n",
       "      <td>[]</td>\n",
       "    </tr>\n",
       "    <tr>\n",
       "      <th>1</th>\n",
       "      <td>1</td>\n",
       "      <td>0.000039</td>\n",
       "      <td>2</td>\n",
       "      <td>0</td>\n",
       "      <td>[1.0]</td>\n",
       "      <td>[]</td>\n",
       "      <td>[]</td>\n",
       "      <td>[]</td>\n",
       "      <td>[]</td>\n",
       "    </tr>\n",
       "    <tr>\n",
       "      <th>2</th>\n",
       "      <td>1</td>\n",
       "      <td>0.000245</td>\n",
       "      <td>7</td>\n",
       "      <td>20</td>\n",
       "      <td>[[-8.0, 12.0]]</td>\n",
       "      <td>[-0.5, 20449.5]</td>\n",
       "      <td>[[-4576.7854, 6864.7854]]</td>\n",
       "      <td>[[[-773.233701, 1725.2337]]]</td>\n",
       "      <td>[0]</td>\n",
       "    </tr>\n",
       "    <tr>\n",
       "      <th>3</th>\n",
       "      <td>1</td>\n",
       "      <td>0.000289</td>\n",
       "      <td>3</td>\n",
       "      <td>20</td>\n",
       "      <td>[[-8.0, 12.0]]</td>\n",
       "      <td>[]</td>\n",
       "      <td>[]</td>\n",
       "      <td>[]</td>\n",
       "      <td>[]</td>\n",
       "    </tr>\n",
       "    <tr>\n",
       "      <th>4</th>\n",
       "      <td>2</td>\n",
       "      <td>0.000301</td>\n",
       "      <td>2</td>\n",
       "      <td>0</td>\n",
       "      <td>[1.0]</td>\n",
       "      <td>[]</td>\n",
       "      <td>[]</td>\n",
       "      <td>[]</td>\n",
       "      <td>[]</td>\n",
       "    </tr>\n",
       "  </tbody>\n",
       "</table>\n",
       "</div>"
      ],
      "text/plain": [
       "   TASKNUM    TSTAMP  EVENTID  EXTRACODE               X                H  \\\n",
       "0        0  0.000000        0          0  [[-8.0, 12.0]]               []   \n",
       "1        1  0.000039        2          0           [1.0]               []   \n",
       "2        1  0.000245        7         20  [[-8.0, 12.0]]  [-0.5, 20449.5]   \n",
       "3        1  0.000289        3         20  [[-8.0, 12.0]]               []   \n",
       "4        2  0.000301        2          0           [1.0]               []   \n",
       "\n",
       "                        DHDX                        D2HDX2 CONVERGENCE  \n",
       "0                         []                            []          []  \n",
       "1                         []                            []          []  \n",
       "2  [[-4576.7854, 6864.7854]]  [[[-773.233701, 1725.2337]]]         [0]  \n",
       "3                         []                            []          []  \n",
       "4                         []                            []          []  "
      ]
     },
     "execution_count": 13,
     "metadata": {},
     "output_type": "execute_result"
    }
   ],
   "source": [
    "res_df.head()"
   ]
  },
  {
   "cell_type": "code",
   "execution_count": 14,
   "metadata": {},
   "outputs": [
    {
     "data": {
      "text/plain": [
       "2      True\n",
       "5      True\n",
       "8     False\n",
       "11    False\n",
       "14     True\n",
       "Name: EXTRACODE, dtype: bool"
      ]
     },
     "execution_count": 14,
     "metadata": {},
     "output_type": "execute_result"
    }
   ],
   "source": [
    "(res_df[res_df.EVENTID == 7].EXTRACODE & 4 > 0).head()"
   ]
  },
  {
   "cell_type": "code",
   "execution_count": 15,
   "metadata": {},
   "outputs": [
    {
     "data": {
      "text/plain": [
       "Series([], Name: X, dtype: object)"
      ]
     },
     "execution_count": 15,
     "metadata": {},
     "output_type": "execute_result"
    }
   ],
   "source": [
    "e = res_df[res_df.EVENTID==6].X\n",
    "e.apply(lambda x: np.abs(x[0,1]-x[0,0]))"
   ]
  }
 ],
 "metadata": {
  "kernelspec": {
   "display_name": "Python 3 (ipykernel)",
   "language": "python",
   "name": "python3"
  },
  "language_info": {
   "codemirror_mode": {
    "name": "ipython",
    "version": 3
   },
   "file_extension": ".py",
   "mimetype": "text/x-python",
   "name": "python",
   "nbconvert_exporter": "python",
   "pygments_lexer": "ipython3",
   "version": "3.10.13"
  }
 },
 "nbformat": 4,
 "nbformat_minor": 4
}
