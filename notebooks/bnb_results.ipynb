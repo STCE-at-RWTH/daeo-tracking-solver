{
 "cells": [
  {
   "cell_type": "code",
   "execution_count": 1,
   "metadata": {},
   "outputs": [],
   "source": [
    "from ast import literal_eval\n",
    "import numpy as np\n",
    "import pandas as pd"
   ]
  },
  {
   "cell_type": "code",
   "execution_count": 7,
   "metadata": {},
   "outputs": [],
   "source": [
    "def parse_numpy_data(item):\n",
    "    item_eval = literal_eval(item)\n",
    "    if item_eval is None:\n",
    "        return np.array([])\n",
    "    return np.array(item_eval)\n",
    "\n",
    "column_parse_dict = {col:parse_numpy_data for col in [\"X\", \"H\", \"DHDX\", \"D2HDX2\", \"CONVERGENCE\"]}"
   ]
  },
  {
   "cell_type": "code",
   "execution_count": 8,
   "metadata": {},
   "outputs": [],
   "source": [
    "res_df = pd.read_csv(\"../data/out/bnb_log_thread_0.csv\", \n",
    "                     sep=\"\\t\", header=0, parse_dates=[\"TSTAMP\"], \n",
    "                     converters=column_parse_dict)"
   ]
  },
  {
   "cell_type": "code",
   "execution_count": 9,
   "metadata": {},
   "outputs": [
    {
     "data": {
      "text/html": [
       "<div>\n",
       "<style scoped>\n",
       "    .dataframe tbody tr th:only-of-type {\n",
       "        vertical-align: middle;\n",
       "    }\n",
       "\n",
       "    .dataframe tbody tr th {\n",
       "        vertical-align: top;\n",
       "    }\n",
       "\n",
       "    .dataframe thead th {\n",
       "        text-align: right;\n",
       "    }\n",
       "</style>\n",
       "<table border=\"1\" class=\"dataframe\">\n",
       "  <thead>\n",
       "    <tr style=\"text-align: right;\">\n",
       "      <th></th>\n",
       "      <th>TASKNUM</th>\n",
       "      <th>TSTAMP</th>\n",
       "      <th>EVENTID</th>\n",
       "      <th>EXTRACODE</th>\n",
       "      <th>X</th>\n",
       "      <th>H</th>\n",
       "      <th>DHDX</th>\n",
       "      <th>D2HDX2</th>\n",
       "      <th>CONVERGENCE</th>\n",
       "    </tr>\n",
       "  </thead>\n",
       "  <tbody>\n",
       "    <tr>\n",
       "      <th>0</th>\n",
       "      <td>0</td>\n",
       "      <td>2023-12-07 14:05:47.529284004</td>\n",
       "      <td>0</td>\n",
       "      <td>0</td>\n",
       "      <td>[[-2.0, 2.0], [-2.0, 2.0]]</td>\n",
       "      <td>[]</td>\n",
       "      <td>[]</td>\n",
       "      <td>[]</td>\n",
       "      <td>[]</td>\n",
       "    </tr>\n",
       "    <tr>\n",
       "      <th>1</th>\n",
       "      <td>1</td>\n",
       "      <td>2023-12-07 14:05:47.529407836</td>\n",
       "      <td>2</td>\n",
       "      <td>0</td>\n",
       "      <td>[[-2.0, 2.0], [-2.0, 2.0]]</td>\n",
       "      <td>[]</td>\n",
       "      <td>[]</td>\n",
       "      <td>[]</td>\n",
       "      <td>[]</td>\n",
       "    </tr>\n",
       "    <tr>\n",
       "      <th>2</th>\n",
       "      <td>1</td>\n",
       "      <td>2023-12-07 14:05:47.529428649</td>\n",
       "      <td>4</td>\n",
       "      <td>0</td>\n",
       "      <td>[]</td>\n",
       "      <td>[]</td>\n",
       "      <td>[]</td>\n",
       "      <td>[]</td>\n",
       "      <td>[0, 0]</td>\n",
       "    </tr>\n",
       "    <tr>\n",
       "      <th>3</th>\n",
       "      <td>1</td>\n",
       "      <td>2023-12-07 14:05:47.529640274</td>\n",
       "      <td>5</td>\n",
       "      <td>0</td>\n",
       "      <td>[[-2.0, 2.0], [-2.0, 2.0]]</td>\n",
       "      <td>[-1.0, 1.0]</td>\n",
       "      <td>[[-1.0, 1.0], [-3.14159265, 3.14159265]]</td>\n",
       "      <td>[]</td>\n",
       "      <td>[]</td>\n",
       "    </tr>\n",
       "    <tr>\n",
       "      <th>4</th>\n",
       "      <td>1</td>\n",
       "      <td>2023-12-07 14:05:47.529940600</td>\n",
       "      <td>6</td>\n",
       "      <td>8</td>\n",
       "      <td>[[-2.0, 2.0], [-2.0, 2.0]]</td>\n",
       "      <td>[-1.0, 1.0]</td>\n",
       "      <td>[[-1.0, 1.0], [-3.14159265, 3.14159265]]</td>\n",
       "      <td>[[[-1.0, 1.0], [-3.14159265, 3.14159265]], [[-...</td>\n",
       "      <td>[]</td>\n",
       "    </tr>\n",
       "  </tbody>\n",
       "</table>\n",
       "</div>"
      ],
      "text/plain": [
       "   TASKNUM                        TSTAMP  EVENTID  EXTRACODE  \\\n",
       "0        0 2023-12-07 14:05:47.529284004        0          0   \n",
       "1        1 2023-12-07 14:05:47.529407836        2          0   \n",
       "2        1 2023-12-07 14:05:47.529428649        4          0   \n",
       "3        1 2023-12-07 14:05:47.529640274        5          0   \n",
       "4        1 2023-12-07 14:05:47.529940600        6          8   \n",
       "\n",
       "                            X            H  \\\n",
       "0  [[-2.0, 2.0], [-2.0, 2.0]]           []   \n",
       "1  [[-2.0, 2.0], [-2.0, 2.0]]           []   \n",
       "2                          []           []   \n",
       "3  [[-2.0, 2.0], [-2.0, 2.0]]  [-1.0, 1.0]   \n",
       "4  [[-2.0, 2.0], [-2.0, 2.0]]  [-1.0, 1.0]   \n",
       "\n",
       "                                       DHDX  \\\n",
       "0                                        []   \n",
       "1                                        []   \n",
       "2                                        []   \n",
       "3  [[-1.0, 1.0], [-3.14159265, 3.14159265]]   \n",
       "4  [[-1.0, 1.0], [-3.14159265, 3.14159265]]   \n",
       "\n",
       "                                              D2HDX2 CONVERGENCE  \n",
       "0                                                 []          []  \n",
       "1                                                 []          []  \n",
       "2                                                 []      [0, 0]  \n",
       "3                                                 []          []  \n",
       "4  [[[-1.0, 1.0], [-3.14159265, 3.14159265]], [[-...          []  "
      ]
     },
     "execution_count": 9,
     "metadata": {},
     "output_type": "execute_result"
    }
   ],
   "source": [
    "res_df.head()"
   ]
  },
  {
   "cell_type": "code",
   "execution_count": 10,
   "metadata": {},
   "outputs": [
    {
     "data": {
      "text/plain": [
       "4        4.000000\n",
       "9        2.000000\n",
       "14       2.000000\n",
       "19       2.000000\n",
       "24       2.000000\n",
       "           ...   \n",
       "49333    0.000061\n",
       "49338    0.000061\n",
       "49343    0.000061\n",
       "49348    0.000061\n",
       "49353    0.000061\n",
       "Name: X, Length: 9354, dtype: float64"
      ]
     },
     "execution_count": 10,
     "metadata": {},
     "output_type": "execute_result"
    }
   ],
   "source": [
    "e = res_df[res_df.EVENTID==6].X\n",
    "e.apply(lambda x: np.abs(x[0,1]-x[0,0]))"
   ]
  },
  {
   "cell_type": "code",
   "execution_count": 6,
   "metadata": {},
   "outputs": [
    {
     "ename": "NameError",
     "evalue": "name 'tval' is not defined",
     "output_type": "error",
     "traceback": [
      "\u001b[0;31m---------------------------------------------------------------------------\u001b[0m",
      "\u001b[0;31mNameError\u001b[0m                                 Traceback (most recent call last)",
      "Cell \u001b[0;32mIn[6], line 1\u001b[0m\n\u001b[0;32m----> 1\u001b[0m np\u001b[38;5;241m.\u001b[39marray(literal_eval(\u001b[43mtval\u001b[49m))\u001b[38;5;241m.\u001b[39mshape\n",
      "\u001b[0;31mNameError\u001b[0m: name 'tval' is not defined"
     ]
    }
   ],
   "source": [
    "np.array(literal_eval(tval)).shape"
   ]
  },
  {
   "cell_type": "code",
   "execution_count": null,
   "metadata": {},
   "outputs": [],
   "source": [
    "np.array(None)"
   ]
  },
  {
   "cell_type": "code",
   "execution_count": null,
   "metadata": {},
   "outputs": [],
   "source": []
  }
 ],
 "metadata": {
  "kernelspec": {
   "display_name": "Python 3 (ipykernel)",
   "language": "python",
   "name": "python3"
  },
  "language_info": {
   "codemirror_mode": {
    "name": "ipython",
    "version": 3
   },
   "file_extension": ".py",
   "mimetype": "text/x-python",
   "name": "python",
   "nbconvert_exporter": "python",
   "pygments_lexer": "ipython3",
   "version": "3.10.12"
  }
 },
 "nbformat": 4,
 "nbformat_minor": 4
}
